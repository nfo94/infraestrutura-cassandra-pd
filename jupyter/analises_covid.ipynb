{
 "cells": [
  {
   "cell_type": "code",
   "execution_count": 1,
   "id": "f3ae3425-6311-4738-846d-d953cb23d54d",
   "metadata": {},
   "outputs": [
    {
     "name": "stdout",
     "output_type": "stream",
     "text": [
      "Requirement already satisfied: findspark in /opt/conda/lib/python3.12/site-packages (2.0.1)\n",
      "Note: you may need to restart the kernel to use updated packages.\n"
     ]
    }
   ],
   "source": [
    "pip install findspark"
   ]
  },
  {
   "cell_type": "code",
   "execution_count": 2,
   "id": "324d4c01-d49a-4a2c-bca3-6a3144d63e33",
   "metadata": {},
   "outputs": [],
   "source": [
    "import findspark\n",
    "findspark.init('spark-3.5.1-bin-hadoop3')"
   ]
  },
  {
   "cell_type": "code",
   "execution_count": 3,
   "id": "a8151499-55bf-44eb-bf70-fa78513aa66b",
   "metadata": {},
   "outputs": [],
   "source": [
    "from pyspark.sql import SparkSession"
   ]
  },
  {
   "cell_type": "code",
   "execution_count": 4,
   "id": "2707ada7-9d68-493a-8efc-d8992c756745",
   "metadata": {},
   "outputs": [],
   "source": [
    "spark = SparkSession.builder.appName(\"Análises Covid\").config(\"spark.jars.packages\", \"com.datastax.spark:spark-cassandra-connector_2.12:3.5.1\").config(\"spark.cassandra.connection.host\", \"cassandra1\").config(\"spark.cassandra.connection.port\", \"9042\").getOrCreate()"
   ]
  },
  {
   "cell_type": "code",
   "execution_count": 5,
   "id": "638fcf3b-a845-4589-ba7c-f5c98322d272",
   "metadata": {},
   "outputs": [
    {
     "name": "stdout",
     "output_type": "stream",
     "text": [
      "3.5.1\n"
     ]
    }
   ],
   "source": [
    "print(spark.version)"
   ]
  },
  {
   "cell_type": "code",
   "execution_count": 6,
   "id": "cd6d297f-5eac-4cbe-83bd-e67e37c1c958",
   "metadata": {},
   "outputs": [],
   "source": [
    "df = spark.read.format(\"org.apache.spark.sql.cassandra\").options(table=\"total_population_by_city_in_ba\", keyspace=\"analises_covid\").load()"
   ]
  },
  {
   "cell_type": "code",
   "execution_count": 7,
   "id": "13ee8f61-0251-4d4d-b822-11a1e322f9d4",
   "metadata": {},
   "outputs": [
    {
     "name": "stdout",
     "output_type": "stream",
     "text": [
      "+--------------------+--------------------+----------------+\n",
      "|                uuid|           city_name|population_40_59|\n",
      "+--------------------+--------------------+----------------+\n",
      "|b2589180-a6e7-43e...|Capela do Alto Al...|            3001|\n",
      "|8e2b5a7e-d6b1-437...| Wenceslau Guimarães|            5947|\n",
      "|2432d174-a9fa-4a3...|         Cravolândia|            1200|\n",
      "|00c17d90-0be2-4ae...|           Paramirim|            5505|\n",
      "|a14b89a4-221d-43d...|            Condeúba|            4632|\n",
      "|4d07f88c-a6c9-4c8...|             Aiquara|            1162|\n",
      "|85170ae4-327a-489...|            Jandaíra|            2203|\n",
      "|1ce76976-9c21-4aa...|               Abaré|            4010|\n",
      "|3ffa144c-2047-462...|               Irará|            7435|\n",
      "|00b89430-e4ea-470...|       Campo Formoso|           17748|\n",
      "|40faf5a5-b18c-49d...|          Entre Rios|           10014|\n",
      "|90b52d5f-a3b3-40a...|        Simões Filho|           31294|\n",
      "|a3473068-3dcd-44c...|             Candiba|            3540|\n",
      "|8490be65-54da-4fc...|    Cardeal da Silva|            1901|\n",
      "|3e757f17-e206-45f...|          Belo Campo|            4684|\n",
      "|cc0031c8-0aa2-4f5...|  Conceição do Coité|           17580|\n",
      "|3aebaa58-6c0a-41e...|             Taperoá|            4475|\n",
      "|b8883de8-05f5-4e0...|        Baixa Grande|            4641|\n",
      "|7eddff09-6d22-4d0...|          Nordestina|            4609|\n",
      "|121298c0-dafa-4a8...|            Tremedal|            4431|\n",
      "+--------------------+--------------------+----------------+\n",
      "only showing top 20 rows\n",
      "\n"
     ]
    }
   ],
   "source": [
    "df.show()"
   ]
  },
  {
   "cell_type": "code",
   "execution_count": 8,
   "id": "d7b92d3c-fec6-443d-aa92-f9e6abd7e5d1",
   "metadata": {},
   "outputs": [],
   "source": [
    "araci_df = df.filter(df.city_name == 'Araci')"
   ]
  },
  {
   "cell_type": "code",
   "execution_count": 9,
   "id": "395bc5e8-4941-4083-a8cd-74fa13ec668f",
   "metadata": {},
   "outputs": [
    {
     "name": "stdout",
     "output_type": "stream",
     "text": [
      "+--------------------+---------+----------------+\n",
      "|                uuid|city_name|population_40_59|\n",
      "+--------------------+---------+----------------+\n",
      "|363be551-c315-477...|    Araci|           11632|\n",
      "+--------------------+---------+----------------+\n",
      "\n"
     ]
    }
   ],
   "source": [
    "araci_df.show()"
   ]
  },
  {
   "cell_type": "code",
   "execution_count": 10,
   "id": "99cf9b03-a88a-4c16-9a28-8f5f28096639",
   "metadata": {},
   "outputs": [],
   "source": [
    "df2 = spark.read.format(\"org.apache.spark.sql.cassandra\").options(table=\"vaccinated_people_by_city_in_ba\", keyspace=\"analises_covid\").load()"
   ]
  },
  {
   "cell_type": "code",
   "execution_count": 11,
   "id": "99ba5ce2-07f3-4072-a664-e9d22e403157",
   "metadata": {},
   "outputs": [
    {
     "name": "stdout",
     "output_type": "stream",
     "text": [
      "+--------------------+--------------------+--------------------------+\n",
      "|                uuid|           city_name|vaccinated_people_d1_40_59|\n",
      "+--------------------+--------------------+--------------------------+\n",
      "|8b78c3f2-7c96-4d8...|             Arataca|                       614|\n",
      "|7901cf32-7f35-415...|       Nova Redenção|                      1724|\n",
      "|9323ecf7-39a7-4c2...|           Lajedinho|                       868|\n",
      "|d7d0d961-5b99-455...|  Regionais de Saúde|                   3642294|\n",
      "|4fd2f9eb-be48-48e...|            Santaluz|                      8339|\n",
      "|2a8c7858-4d35-461...|Livramento de Nos...|                     11928|\n",
      "|241ca317-1c7c-4a7...|Luís Eduardo Maga...|                     18807|\n",
      "|92c48ff1-42f8-426...|        Dias d'Ávila|                     18461|\n",
      "|9e201598-a49e-49b...|               Cairu|                      4264|\n",
      "|1e3ab95a-a588-47f...|   Marcionílio Souza|                      1955|\n",
      "|65112e8d-cb59-497...|         Brejolândia|                      2680|\n",
      "|ac16d9df-0add-435...|          Pau Brasil|                      1950|\n",
      "|351de965-b58d-45c...|             Coaraci|                      3474|\n",
      "|1bda57c9-38ed-4ce...|Contendas do Sincorá|                      1076|\n",
      "|8bf87fa2-87f7-465...|   Euclides da Cunha|                     14209|\n",
      "|16652638-544e-419...|             Mutuípe|                      5435|\n",
      "|7d3ddd3a-353a-40b...|              Ilhéus|                     47265|\n",
      "|a6f189dd-fd82-4bd...|              Glória|                      3908|\n",
      "|1b9573dd-5a33-48a...|               Iguaí|                      4919|\n",
      "|b12ad974-40af-43c...|        Rio do Pires|                      2456|\n",
      "+--------------------+--------------------+--------------------------+\n",
      "only showing top 20 rows\n",
      "\n"
     ]
    }
   ],
   "source": [
    "df2.show()"
   ]
  },
  {
   "cell_type": "code",
   "execution_count": 12,
   "id": "718f995e-e5ed-4e0c-b4ef-359ce4519ac9",
   "metadata": {},
   "outputs": [],
   "source": [
    "araci_vaccinated = df2.filter(df2.city_name == 'Araci')"
   ]
  },
  {
   "cell_type": "code",
   "execution_count": 13,
   "id": "4a4f9eab-a7dd-4b55-ac23-e43e67cb85f3",
   "metadata": {},
   "outputs": [
    {
     "name": "stdout",
     "output_type": "stream",
     "text": [
      "+--------------------+---------+--------------------------+\n",
      "|                uuid|city_name|vaccinated_people_d1_40_59|\n",
      "+--------------------+---------+--------------------------+\n",
      "|690eb57d-1788-4fc...|    Araci|                     10942|\n",
      "+--------------------+---------+--------------------------+\n",
      "\n"
     ]
    }
   ],
   "source": [
    "araci_vaccinated.show()"
   ]
  },
  {
   "cell_type": "code",
   "execution_count": 15,
   "id": "71e6253c-a1a8-4a44-bde2-314817377280",
   "metadata": {},
   "outputs": [],
   "source": [
    "araci_vaccinated_total = araci_vaccinated.select(\"vaccinated_people_d1_40_59\")"
   ]
  },
  {
   "cell_type": "code",
   "execution_count": 16,
   "id": "69dd2d89-3d62-4ea9-b325-9f543f022abf",
   "metadata": {},
   "outputs": [
    {
     "name": "stdout",
     "output_type": "stream",
     "text": [
      "+--------------------------+\n",
      "|vaccinated_people_d1_40_59|\n",
      "+--------------------------+\n",
      "|                     10942|\n",
      "+--------------------------+\n",
      "\n"
     ]
    }
   ],
   "source": [
    "araci_vaccinated_total.show()"
   ]
  },
  {
   "cell_type": "code",
   "execution_count": 17,
   "id": "e7533bca-79ff-48ea-a62a-935bb3b994a2",
   "metadata": {},
   "outputs": [
    {
     "name": "stdout",
     "output_type": "stream",
     "text": [
      "10942\n"
     ]
    }
   ],
   "source": [
    "araci_d1_total = araci_vaccinated_total.collect()[0][0]\n",
    "print(araci_d1_total)"
   ]
  },
  {
   "cell_type": "code",
   "execution_count": 18,
   "id": "f6c88a87-dcd3-4f2f-9e57-50afa68e25ec",
   "metadata": {},
   "outputs": [],
   "source": [
    "araci_total = df.filter(df.city_name == 'Araci')"
   ]
  },
  {
   "cell_type": "code",
   "execution_count": 19,
   "id": "c9d5163f-1bd1-484a-8a6d-c7addeacfd5b",
   "metadata": {},
   "outputs": [
    {
     "name": "stdout",
     "output_type": "stream",
     "text": [
      "+--------------------+---------+----------------+\n",
      "|                uuid|city_name|population_40_59|\n",
      "+--------------------+---------+----------------+\n",
      "|363be551-c315-477...|    Araci|           11632|\n",
      "+--------------------+---------+----------------+\n",
      "\n"
     ]
    }
   ],
   "source": [
    "araci_total.show()"
   ]
  },
  {
   "cell_type": "code",
   "execution_count": 20,
   "id": "ea7e24f5-0502-4ae5-bcc6-fc0b7e10ba3d",
   "metadata": {},
   "outputs": [],
   "source": [
    "araci_population = araci_total.select(\"population_40_59\")"
   ]
  },
  {
   "cell_type": "code",
   "execution_count": 21,
   "id": "d19d6033-a7c4-4ecc-bd99-39022d3399b0",
   "metadata": {},
   "outputs": [
    {
     "name": "stdout",
     "output_type": "stream",
     "text": [
      "+----------------+\n",
      "|population_40_59|\n",
      "+----------------+\n",
      "|           11632|\n",
      "+----------------+\n",
      "\n"
     ]
    }
   ],
   "source": [
    "araci_population.show()"
   ]
  },
  {
   "cell_type": "code",
   "execution_count": 22,
   "id": "8f2e4752-938d-47fa-8f89-2ef76aa34183",
   "metadata": {},
   "outputs": [],
   "source": [
    "araci_population_total = araci_population.collect()[0][0]"
   ]
  },
  {
   "cell_type": "code",
   "execution_count": 23,
   "id": "50a9a5b2-cdbb-4f1d-bd4c-4d45cc0b09b3",
   "metadata": {},
   "outputs": [
    {
     "name": "stdout",
     "output_type": "stream",
     "text": [
      "11632\n"
     ]
    }
   ],
   "source": [
    "print(araci_population_total)"
   ]
  },
  {
   "cell_type": "code",
   "execution_count": 24,
   "id": "24e2fc29-29fd-4dbf-ba0a-9bb4ebcf4aff",
   "metadata": {},
   "outputs": [
    {
     "name": "stdout",
     "output_type": "stream",
     "text": [
      "<class 'int'>\n"
     ]
    }
   ],
   "source": [
    "print(type(araci_population_total))"
   ]
  },
  {
   "cell_type": "code",
   "execution_count": 27,
   "id": "9aa6b7d7-0b60-4809-91da-f4df0685648a",
   "metadata": {},
   "outputs": [],
   "source": [
    "araci_percentage = araci_d1_total / araci_population_total * 100"
   ]
  },
  {
   "cell_type": "code",
   "execution_count": 28,
   "id": "0a8ebeb9-2b23-4998-a448-f587f43de16f",
   "metadata": {},
   "outputs": [
    {
     "name": "stdout",
     "output_type": "stream",
     "text": [
      "94.06808803301237\n"
     ]
    }
   ],
   "source": [
    "print(araci_percentage)"
   ]
  },
  {
   "cell_type": "code",
   "execution_count": 29,
   "id": "7fd5c342-a29d-4d36-9d54-93fba49d1510",
   "metadata": {},
   "outputs": [],
   "source": [
    "salvador_df = df.filter(df.city_name == 'Salvador')"
   ]
  },
  {
   "cell_type": "code",
   "execution_count": 30,
   "id": "ef88e48e-9b33-4f4c-a84c-583db527137f",
   "metadata": {},
   "outputs": [
    {
     "name": "stdout",
     "output_type": "stream",
     "text": [
      "+--------------------+---------+----------------+\n",
      "|                uuid|city_name|population_40_59|\n",
      "+--------------------+---------+----------------+\n",
      "|0ce54abd-6f6c-432...| Salvador|          725758|\n",
      "+--------------------+---------+----------------+\n",
      "\n"
     ]
    }
   ],
   "source": [
    "salvador_df.show()"
   ]
  },
  {
   "cell_type": "code",
   "execution_count": 31,
   "id": "e4c02959-8709-4174-ad3c-ee621a2f7868",
   "metadata": {},
   "outputs": [],
   "source": [
    "salvador_vaccinated = df2.filter(df2.city_name == 'Salvador')"
   ]
  },
  {
   "cell_type": "code",
   "execution_count": 32,
   "id": "10abfe76-4fa3-42e4-bcd6-47918509d775",
   "metadata": {},
   "outputs": [
    {
     "name": "stdout",
     "output_type": "stream",
     "text": [
      "+--------------------+---------+--------------------------+\n",
      "|                uuid|city_name|vaccinated_people_d1_40_59|\n",
      "+--------------------+---------+--------------------------+\n",
      "|9ab4e1ad-a3ed-4ed...| Salvador|                    801369|\n",
      "+--------------------+---------+--------------------------+\n",
      "\n"
     ]
    }
   ],
   "source": [
    "salvador_vaccinated.show()"
   ]
  },
  {
   "cell_type": "code",
   "execution_count": 33,
   "id": "996c9a6f-2667-4c2e-8dee-057a48bdf1fe",
   "metadata": {},
   "outputs": [],
   "source": [
    "salvador_d1_total = salvador_vaccinated.select(\"vaccinated_people_d1_40_59\").collect()[0][0]"
   ]
  },
  {
   "cell_type": "code",
   "execution_count": 34,
   "id": "5ed43eb9-e40f-4e44-ac69-0297f983d217",
   "metadata": {},
   "outputs": [
    {
     "name": "stdout",
     "output_type": "stream",
     "text": [
      "801369\n"
     ]
    }
   ],
   "source": [
    "print(salvador_d1_total)"
   ]
  },
  {
   "cell_type": "code",
   "execution_count": 35,
   "id": "a1c1c71b-0035-4edc-8502-28050519ae12",
   "metadata": {},
   "outputs": [],
   "source": [
    "salvador_population_total = salvador_df.select(\"population_40_59\").collect()[0][0]"
   ]
  },
  {
   "cell_type": "code",
   "execution_count": 36,
   "id": "be43720d-aef2-4399-85a8-f2f1d06bcfdb",
   "metadata": {},
   "outputs": [
    {
     "name": "stdout",
     "output_type": "stream",
     "text": [
      "725758\n"
     ]
    }
   ],
   "source": [
    "print(salvador_population_total)"
   ]
  },
  {
   "cell_type": "code",
   "execution_count": 37,
   "id": "be41aeac-4db7-4c6c-844d-b80c6b76b48a",
   "metadata": {},
   "outputs": [],
   "source": [
    "salvador_percentage = salvador_d1_total / salvador_population_total * 100"
   ]
  },
  {
   "cell_type": "code",
   "execution_count": 38,
   "id": "c0658920-4809-4a53-99e8-0f7281bfb11b",
   "metadata": {},
   "outputs": [
    {
     "name": "stdout",
     "output_type": "stream",
     "text": [
      "110.4182110290207\n"
     ]
    }
   ],
   "source": [
    "print(salvador_percentage)"
   ]
  },
  {
   "cell_type": "code",
   "execution_count": 39,
   "id": "4f9f9cf5-81c0-41ea-9990-bbcd4d71b91f",
   "metadata": {},
   "outputs": [
    {
     "name": "stdout",
     "output_type": "stream",
     "text": [
      "110.4182110290207\n",
      "94.06808803301237\n"
     ]
    }
   ],
   "source": [
    "print(salvador_percentage)\n",
    "print(araci_percentage)"
   ]
  },
  {
   "cell_type": "code",
   "execution_count": 40,
   "id": "a17a2836-5d88-4b90-846b-e1a63ca24ded",
   "metadata": {},
   "outputs": [
    {
     "name": "stdout",
     "output_type": "stream",
     "text": [
      "Requirement already satisfied: matplotlib in /opt/conda/lib/python3.12/site-packages (3.9.2)\n",
      "Requirement already satisfied: contourpy>=1.0.1 in /opt/conda/lib/python3.12/site-packages (from matplotlib) (1.3.0)\n",
      "Requirement already satisfied: cycler>=0.10 in /opt/conda/lib/python3.12/site-packages (from matplotlib) (0.12.1)\n",
      "Requirement already satisfied: fonttools>=4.22.0 in /opt/conda/lib/python3.12/site-packages (from matplotlib) (4.54.1)\n",
      "Requirement already satisfied: kiwisolver>=1.3.1 in /opt/conda/lib/python3.12/site-packages (from matplotlib) (1.4.7)\n",
      "Requirement already satisfied: numpy>=1.23 in /opt/conda/lib/python3.12/site-packages (from matplotlib) (2.0.2)\n",
      "Requirement already satisfied: packaging>=20.0 in /opt/conda/lib/python3.12/site-packages (from matplotlib) (24.1)\n",
      "Requirement already satisfied: pillow>=8 in /opt/conda/lib/python3.12/site-packages (from matplotlib) (11.0.0)\n",
      "Requirement already satisfied: pyparsing>=2.3.1 in /opt/conda/lib/python3.12/site-packages (from matplotlib) (3.2.0)\n",
      "Requirement already satisfied: python-dateutil>=2.7 in /opt/conda/lib/python3.12/site-packages (from matplotlib) (2.9.0)\n",
      "Requirement already satisfied: six>=1.5 in /opt/conda/lib/python3.12/site-packages (from python-dateutil>=2.7->matplotlib) (1.16.0)\n",
      "Note: you may need to restart the kernel to use updated packages.\n"
     ]
    }
   ],
   "source": [
    "pip install matplotlib"
   ]
  },
  {
   "cell_type": "code",
   "execution_count": 41,
   "id": "1821cc6b-fabf-43dd-9557-bdf507157d9f",
   "metadata": {},
   "outputs": [],
   "source": [
    "import matplotlib.pyplot as plt"
   ]
  },
  {
   "cell_type": "code",
   "execution_count": 44,
   "id": "cb1017ec-8776-443a-b6fd-a3b60d019d09",
   "metadata": {},
   "outputs": [
    {
     "data": {
      "image/png": "[encoded data removed]",
      "text/plain": [
       "<Figure size 600x600 with 1 Axes>"
      ]
     },
     "metadata": {},
     "output_type": "display_data"
    }
   ],
   "source": [
    "labels = ['Vacinados em Salvador', 'Vacinados em Araci']\n",
    "percentages = [salvador_percentage, araci_percentage]\n",
    "\n",
    "plt.figure(figsize=(6, 6))\n",
    "plt.bar(labels, percentages, color=['blue', 'green'])\n",
    "plt.title('Vacinados com D1 entre 40 e 59 anos')\n",
    "plt.xlabel('Cidade')\n",
    "plt.ylabel('Porcentagem (%)')\n",
    "plt.ylim(0, 120)\n",
    "plt.show()"
   ]
  },
  {
   "cell_type": "code",
   "execution_count": 48,
   "id": "f1d470d2-44e2-467e-b411-21e68f32f5fd",
   "metadata": {},
   "outputs": [
    {
     "data": {
      "image/png": "[encoded data removed]",
      "text/plain": [
       "<Figure size 600x600 with 1 Axes>"
      ]
     },
     "metadata": {},
     "output_type": "display_data"
    }
   ],
   "source": [
    "labels = ['Vacinados em Salvador', 'Vacinados em Araci']\n",
    "percentages = [salvador_percentage, araci_percentage]\n",
    "\n",
    "plt.figure(figsize=(6, 6))\n",
    "plt.scatter(labels, percentages, color=['blue', 'green'])\n",
    "\n",
    "for i, percentage in enumerate(percentages):\n",
    "    plt.annotate(f'{percentage}%', (labels[i], percentages[i]), textcoords=\"offset points\", xytext=(0,10), ha='center')\n",
    "\n",
    "plt.title('Vacinados com D1 entre 40 e 59 anos')\n",
    "plt.xlabel('Cidade')\n",
    "plt.ylabel('Porcentagem (%)')\n",
    "plt.ylim(0, 150)\n",
    "plt.show()"
   ]
  },
  {
   "cell_type": "code",
   "execution_count": null,
   "id": "df364cfb-8016-4c4a-aac8-c6f198eddeb5",
   "metadata": {},
   "outputs": [],
   "source": []
  }
 ],
 "metadata": {
  "kernelspec": {
   "display_name": "Python 3 (ipykernel)",
   "language": "python",
   "name": "python3"
  },
  "language_info": {
   "codemirror_mode": {
    "name": "ipython",
    "version": 3
   },
   "file_extension": ".py",
   "mimetype": "text/x-python",
   "name": "python",
   "nbconvert_exporter": "python",
   "pygments_lexer": "ipython3",
   "version": "3.12.7"
  }
 },
 "nbformat": 4,
 "nbformat_minor": 5
}
